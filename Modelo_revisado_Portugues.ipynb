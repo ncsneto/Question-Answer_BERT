{
  "nbformat": 4,
  "nbformat_minor": 0,
  "metadata": {
    "colab": {
      "name": "Modelo_revisado_Portugues.ipynb",
      "provenance": [],
      "collapsed_sections": []
    },
    "kernelspec": {
      "name": "python3",
      "display_name": "Python 3"
    }
  },
  "cells": [
    {
      "cell_type": "markdown",
      "metadata": {
        "id": "0IVZkJ-kTZKV"
      },
      "source": [
        "# Modelo Bert de Perguntas e Respostas\r\n",
        "\r\n",
        "# Prova de Conceito  - BI Master PUC-RIO\r\n",
        "# Utilização de modelo Hugging Face Transformer em Português para implementar um sistema de Perguntas e Respostas utilizando um texto do Wikipedia como contexto\r\n",
        "\r\n",
        "Aluno: Nelson Custódio (2019-1)\r\n",
        "\r\n",
        "Orientador : PhD Leonardo Alfredo Forero Mendoza\r\n",
        "\r\n",
        "Data: 24/02/2021"
      ]
    },
    {
      "cell_type": "markdown",
      "metadata": {
        "id": "e_lCYGJOowAf"
      },
      "source": [
        "## 1) Instala as Bibliotecas"
      ]
    },
    {
      "cell_type": "code",
      "metadata": {
        "id": "nw-sRpszTU82",
        "colab": {
          "base_uri": "https://localhost:8080/"
        },
        "outputId": "1b427002-e1f7-42cf-ed0a-cb98845ea799"
      },
      "source": [
        "!pip install transformers\r\n",
        "!pip install torch\r\n",
        "!pip install wikipedia"
      ],
      "execution_count": 8,
      "outputs": [
        {
          "output_type": "stream",
          "text": [
            "Requirement already satisfied: transformers in /usr/local/lib/python3.7/dist-packages (4.3.2)\n",
            "Requirement already satisfied: importlib-metadata; python_version < \"3.8\" in /usr/local/lib/python3.7/dist-packages (from transformers) (3.4.0)\n",
            "Requirement already satisfied: tqdm>=4.27 in /usr/local/lib/python3.7/dist-packages (from transformers) (4.41.1)\n",
            "Requirement already satisfied: filelock in /usr/local/lib/python3.7/dist-packages (from transformers) (3.0.12)\n",
            "Requirement already satisfied: regex!=2019.12.17 in /usr/local/lib/python3.7/dist-packages (from transformers) (2019.12.20)\n",
            "Requirement already satisfied: tokenizers<0.11,>=0.10.1 in /usr/local/lib/python3.7/dist-packages (from transformers) (0.10.1)\n",
            "Requirement already satisfied: sacremoses in /usr/local/lib/python3.7/dist-packages (from transformers) (0.0.43)\n",
            "Requirement already satisfied: requests in /usr/local/lib/python3.7/dist-packages (from transformers) (2.23.0)\n",
            "Requirement already satisfied: numpy>=1.17 in /usr/local/lib/python3.7/dist-packages (from transformers) (1.19.5)\n",
            "Requirement already satisfied: packaging in /usr/local/lib/python3.7/dist-packages (from transformers) (20.9)\n",
            "Requirement already satisfied: zipp>=0.5 in /usr/local/lib/python3.7/dist-packages (from importlib-metadata; python_version < \"3.8\"->transformers) (3.4.0)\n",
            "Requirement already satisfied: typing-extensions>=3.6.4; python_version < \"3.8\" in /usr/local/lib/python3.7/dist-packages (from importlib-metadata; python_version < \"3.8\"->transformers) (3.7.4.3)\n",
            "Requirement already satisfied: joblib in /usr/local/lib/python3.7/dist-packages (from sacremoses->transformers) (1.0.1)\n",
            "Requirement already satisfied: click in /usr/local/lib/python3.7/dist-packages (from sacremoses->transformers) (7.1.2)\n",
            "Requirement already satisfied: six in /usr/local/lib/python3.7/dist-packages (from sacremoses->transformers) (1.15.0)\n",
            "Requirement already satisfied: certifi>=2017.4.17 in /usr/local/lib/python3.7/dist-packages (from requests->transformers) (2020.12.5)\n",
            "Requirement already satisfied: idna<3,>=2.5 in /usr/local/lib/python3.7/dist-packages (from requests->transformers) (2.10)\n",
            "Requirement already satisfied: chardet<4,>=3.0.2 in /usr/local/lib/python3.7/dist-packages (from requests->transformers) (3.0.4)\n",
            "Requirement already satisfied: urllib3!=1.25.0,!=1.25.1,<1.26,>=1.21.1 in /usr/local/lib/python3.7/dist-packages (from requests->transformers) (1.24.3)\n",
            "Requirement already satisfied: pyparsing>=2.0.2 in /usr/local/lib/python3.7/dist-packages (from packaging->transformers) (2.4.7)\n",
            "Requirement already satisfied: torch in /usr/local/lib/python3.7/dist-packages (1.7.0+cu101)\n",
            "Requirement already satisfied: typing-extensions in /usr/local/lib/python3.7/dist-packages (from torch) (3.7.4.3)\n",
            "Requirement already satisfied: numpy in /usr/local/lib/python3.7/dist-packages (from torch) (1.19.5)\n",
            "Requirement already satisfied: dataclasses in /usr/local/lib/python3.7/dist-packages (from torch) (0.6)\n",
            "Requirement already satisfied: future in /usr/local/lib/python3.7/dist-packages (from torch) (0.16.0)\n",
            "Requirement already satisfied: wikipedia in /usr/local/lib/python3.7/dist-packages (1.4.0)\n",
            "Requirement already satisfied: beautifulsoup4 in /usr/local/lib/python3.7/dist-packages (from wikipedia) (4.6.3)\n",
            "Requirement already satisfied: requests<3.0.0,>=2.0.0 in /usr/local/lib/python3.7/dist-packages (from wikipedia) (2.23.0)\n",
            "Requirement already satisfied: certifi>=2017.4.17 in /usr/local/lib/python3.7/dist-packages (from requests<3.0.0,>=2.0.0->wikipedia) (2020.12.5)\n",
            "Requirement already satisfied: idna<3,>=2.5 in /usr/local/lib/python3.7/dist-packages (from requests<3.0.0,>=2.0.0->wikipedia) (2.10)\n",
            "Requirement already satisfied: chardet<4,>=3.0.2 in /usr/local/lib/python3.7/dist-packages (from requests<3.0.0,>=2.0.0->wikipedia) (3.0.4)\n",
            "Requirement already satisfied: urllib3!=1.25.0,!=1.25.1,<1.26,>=1.21.1 in /usr/local/lib/python3.7/dist-packages (from requests<3.0.0,>=2.0.0->wikipedia) (1.24.3)\n"
          ],
          "name": "stdout"
        }
      ]
    },
    {
      "cell_type": "code",
      "metadata": {
        "id": "lHwRnQCYSOCR"
      },
      "source": [
        "from transformers import AutoTokenizer, AutoModelForQuestionAnswering\r\n",
        "from collections import OrderedDict\r\n",
        "import torch\r\n",
        "import wikipedia as wiki\r\n",
        "import pprint as pp"
      ],
      "execution_count": 9,
      "outputs": []
    },
    {
      "cell_type": "markdown",
      "metadata": {
        "id": "0JIxHHB3o6G0"
      },
      "source": [
        "# 2) Classe HuggingFace que quebra o texto em trechos de 512 tokes e executa o codigo de identificação das respostas possiveis para as perguntas realizadas."
      ]
    },
    {
      "cell_type": "code",
      "metadata": {
        "id": "f5jrQoIHST7v"
      },
      "source": [
        "class DocumentReader:\r\n",
        "    def __init__(self, modelo_ou_caminho):\r\n",
        "        self.READER_PATH = modelo_ou_caminho # diretório onde está o modelo pré-treinado\r\n",
        "        self.tokenizer = AutoTokenizer.from_pretrained(self.READER_PATH) # Tokenizar o modelo\r\n",
        "        self.model = AutoModelForQuestionAnswering.from_pretrained(self.READER_PATH) # aplica modelo\r\n",
        "        self.comprimento_max = self.model.config.max_position_embeddings # tamanho maximo do modelo (padrão = 512 bytes)\r\n",
        "        self.chunked = False\r\n",
        "\r\n",
        "    def tokenize(self, question, text):\r\n",
        "        self.inputs = self.tokenizer.encode_plus(question, text, add_special_tokens=True, return_tensors=\"pt\") # Realiza a tokenização das questões e do contexto\r\n",
        "        self.input_ids = self.inputs[\"input_ids\"].tolist()[0] # lista de tokens\r\n",
        "\r\n",
        "        if len(self.input_ids) > self.comprimento_max: # testa se o texto é maior que o comprimento maximo \r\n",
        "            self.inputs = self.trechando()\r\n",
        "            self.trecho = True\r\n",
        "\r\n",
        "\r\n",
        "    def trechando(self): # Faz a quebra do texto em trechos com comprimento maximo de 512 palavras\r\n",
        "\r\n",
        "    #Cada um dos trechos indexados alimenta o modelo de forma a obtermos uma \"resposta\" para cada bloco. \r\n",
        "    #Se tivermos respostas não uteis o modelo retornará o token [CLS]\r\n",
        "  \r\n",
        "        qmask = self.inputs['token_type_ids'].lt(1) # tensor com valores em True ou False\r\n",
        "        qt = torch.masked_select(self.inputs['input_ids'], qmask) # seleciona os tokens vinculados ao label 'input_ids'\r\n",
        "        trecho_size = self.comprimento_max - qt.size()[0] - 1 # tamanho do trecho \r\n",
        "\r\n",
        "        # cria um dicionario para cada trecho, cada sub-dicionario contem a estrutura do modelo de trechos\r\n",
        "        trecho_input = OrderedDict() # ordena os trechos\r\n",
        "        for k,v in self.inputs.items():\r\n",
        "            q = torch.masked_select(v, qmask) \r\n",
        "            c = torch.masked_select(v, ~qmask)\r\n",
        "            trechos = torch.split(c, trecho_size)\r\n",
        "            \r\n",
        "            for i, trecho in enumerate(trechos):\r\n",
        "                if i not in trecho_input:\r\n",
        "                    trecho_input[i] = {}\r\n",
        "\r\n",
        "                thing = torch.cat((q, trecho))\r\n",
        "                if i != len(trechos)-1:\r\n",
        "                    if k == 'input_ids':\r\n",
        "                        thing = torch.cat((thing, torch.tensor([102])))\r\n",
        "                    else:\r\n",
        "                        thing = torch.cat((thing, torch.tensor([1])))\r\n",
        "\r\n",
        "                trecho_input[i][k] = torch.unsqueeze(thing, dim=0)\r\n",
        "        return trecho_input\r\n",
        "\r\n",
        "    def get_answer(self):\r\n",
        "\r\n",
        "       # busca as respostas por trecho\r\n",
        "\r\n",
        "        if self.trecho:\r\n",
        "            answer = ''\r\n",
        "            for k, trecho in self.inputs.items():\r\n",
        "                answer_start_scores, answer_end_scores = self.model(**trecho)[0], self.model(**trecho)[1]\r\n",
        "\r\n",
        "                answer_start = torch.argmax(answer_start_scores)\r\n",
        "                answer_end = torch.argmax(answer_end_scores) + 1\r\n",
        "\r\n",
        "                ans = self.convert_ids_to_string(trecho['input_ids'][0][answer_start:answer_end])\r\n",
        "                if ans != '[CLS]':\r\n",
        "                    answer += ans + \" / \"\r\n",
        "            return answer\r\n",
        "        else:\r\n",
        "            answer_start_scores, answer_end_scores = self.model(**self.inputs)\r\n",
        "\r\n",
        "            answer_start = torch.argmax(answer_start_scores)\r\n",
        "            answer_end = torch.argmax(answer_end_scores) + 1 \r\n",
        "        \r\n",
        "            return self.convert_ids_to_string(self.inputs['input_ids'][0][\r\n",
        "                                              answer_start:answer_end])\r\n",
        "          \r\n",
        "    def convert_ids_to_string(self, input_ids): # converte os tokens em texto novamente\r\n",
        "        return self.tokenizer.convert_tokens_to_string(self.tokenizer.convert_ids_to_tokens(input_ids))"
      ],
      "execution_count": 10,
      "outputs": []
    },
    {
      "cell_type": "code",
      "metadata": {
        "id": "MFoKFgBSS_Zo"
      },
      "source": [
        "#Desliga o aviso de comprimento da sequencia de tokenização, tornando a saida mais limpa\r\n",
        "import logging\r\n",
        "logging.getLogger(\"transformers.tokenization_utils\").setLevel(logging.ERROR)"
      ],
      "execution_count": 11,
      "outputs": []
    },
    {
      "cell_type": "markdown",
      "metadata": {
        "id": "ZkrJhajSp6xU"
      },
      "source": [
        "# 3) Carrega do texto da Wikipedia"
      ]
    },
    {
      "cell_type": "code",
      "metadata": {
        "colab": {
          "base_uri": "https://localhost:8080/"
        },
        "id": "YggXtEEGf9Np",
        "outputId": "8ca32bba-09d2-4883-a6ac-b449602f50f4"
      },
      "source": [
        "wiki.set_lang('pt') # Definimos a lingua do Wikipedia\r\n",
        "assunto = 'Donald Trump' # Assunto a ser pesquisado\r\n",
        "conteudo = wiki.search(assunto) # Busca na Wikipedia os textos relacionados ao assunto escolhido\r\n",
        "#pp.pprint(conteudo)\r\n",
        "\r\n",
        "\r\n",
        "#print(\"Resultados sobre o assunto na Wikipedia:\\n\" + assunto)\r\n",
        "\r\n",
        "pagina = wiki.page(conteudo[0]) #Utilizaremos apenas a primeira referencia encontrada sobre o assunto pesquisado\r\n",
        "text = pagina.summary # baixa apenas o sumario de todo o texto relacionado\r\n",
        "\r\n",
        "print(f\"\\nThe {conteudo[0]} O Texto contém {len(text)} caracteres.\") # imprime o tamanho do texto\r\n",
        "\r\n",
        "pp.pprint(text) # imprime o texto baixado"
      ],
      "execution_count": 12,
      "outputs": [
        {
          "output_type": "stream",
          "text": [
            "\n",
            "The Donald Trump O Texto contém 6161 caracteres.\n",
            "('Donald John Trump (Nova Iorque, 14 de junho de 1946) é um empresário, '\n",
            " 'personalidade televisiva e político americano, que serviu como o 45.º '\n",
            " 'presidente dos Estados Unidos. Na eleição de 2016, Trump foi eleito pelo '\n",
            " 'Partido Republicano ao derrotar a candidata democrata Hillary Clinton no '\n",
            " 'número de delegados do colégio eleitoral; no entanto, perdeu por mais de 2,8 '\n",
            " 'milhões de votos, a maior derrota nas urnas de um presidente eleito na '\n",
            " 'história do país. Ele foi empossado para o cargo em 20 de janeiro de 2017 e, '\n",
            " 'aos 70 anos de idade, foi a pessoa mais velha a assumir a presidência até '\n",
            " 'que, em 2021, Joe Biden, aos 78 anos, assumiu o cargo.Trump nasceu e cresceu '\n",
            " 'no Queens, um dos cinco distritos da cidade de Nova Iorque, e recebeu um '\n",
            " 'diploma de bacharel em economia da Wharton School da Universidade da '\n",
            " 'Pensilvânia em 1968. Em 1971, recebeu de seu pai, Fred Trump, o controle da '\n",
            " 'empresa de imóveis e construção Elizabeth Trump & Son, renomeando-a para The '\n",
            " 'Trump Organization. Durante sua carreira, Trump construiu torres de '\n",
            " 'escritório, hotéis, cassinos, campos de golfe e outras instalações com sua '\n",
            " 'marca em todo o mundo. Trump também foi dono do concurso de beleza Miss USA '\n",
            " 'entre 1996 e 2015, fez breves aparições em filmes e séries de televisão, e '\n",
            " 'apresentou e coproduziu o programa The Apprentice, um reality show que foi '\n",
            " 'transmitido pela NBC entre 2004 e 2015. Em 2016, a revista Forbes o listou '\n",
            " 'como a 324.ª pessoa mais rica do mundo e a 113.ª nos Estados Unidos, com um '\n",
            " 'patrimônio líquido de 4,5 bilhões de dólares. Em junho de 2015, anunciou sua '\n",
            " 'candidatura para a presidência como um republicano e rapidamente emergiu '\n",
            " 'como o favorito para a nomeação do seu partido. Em maio de 2016, todos os '\n",
            " 'seus rivais republicanos haviam suspendido suas campanhas e, em julho, Trump '\n",
            " 'foi formalmente nomeado candidato a presidente na Convenção Nacional '\n",
            " 'Republicana. A campanha de Trump recebeu cobertura midiática e atenção '\n",
            " 'internacional sem precedentes. Muitas de suas declarações em entrevistas e '\n",
            " 'no Twitter durante a campanha foram controversas. Várias manifestações '\n",
            " 'durante as primárias republicanas foram acompanhadas por protestos. Suas '\n",
            " 'posições políticas foram descritas como populistas, protecionistas, '\n",
            " 'isolacionistas e nacionalistas.\\n'\n",
            " 'Durante sua presidência, Trump assinou uma ordem executiva que proibia a '\n",
            " 'entrada de cidadãos oriundos de sete países de maioria muçulmana nos Estados '\n",
            " 'Unidos, citando razões de segurança. Em questões internas, ele assinou um '\n",
            " 'pacote de maciços cortes de impostos para indivíduos e empresas, e ainda '\n",
            " 'rescindiu a penalidade do mandato de seguro saúde individual do Affordable '\n",
            " 'Care Act, mas não conseguiu revogar o Obamacare completamente, como havia '\n",
            " 'sido sua proposta de campanha. Trabalhou para desregulamentar a economia, '\n",
            " 'revogando várias provisões que haviam sido colocadas para sanar a crise '\n",
            " 'econômica de 2007-08 e reverteu várias revisões ambientais e permitiu a '\n",
            " 'expansão da exploração de combustíveis fósseis, incluindo retorno de '\n",
            " 'fracking em regiões onde a ação havia sido anteriormente proibida. Trump '\n",
            " 'ainda nomeou para a Suprema Corte os juristas Neil Gorsuch, Brett Kavanaugh '\n",
            " 'e Amy Coney Barrett. Na política externa, o presidente Trump buscou avançar '\n",
            " 'sua agenda da America First, retirando os Estados Unidos das negociações do '\n",
            " 'acordo da Parceria Transpacífica e do Acordo de Paris sobre mudanças '\n",
            " 'climáticas, além de ter feito o país sair do Acordo nuclear com o Irã, '\n",
            " 'reimpondo sanções econômicas contra o regime iraniano. Ele também impôs '\n",
            " 'tarifas sobre diversos produtos importados que, entre diversas '\n",
            " 'consequências, levou a uma guerra comercial com a China. Cumprindo promessas '\n",
            " 'feitas durante a campanha de 2016, ele ainda moveu a embaixada dos Estados '\n",
            " 'Unidos para Jerusalém e retirou as tropas americanas da guerra na Síria. '\n",
            " 'Trump se encontrou três vezes com o ditador norte-coreano Kim Jong-un e '\n",
            " 'abriu negociações com seu regime, mas as conversas sobre desnuclearização '\n",
            " 'não avançaram.\\n'\n",
            " 'Em maio de 2017, uma investigação oficial, encabeçada por Robert Mueller, '\n",
            " 'foi lançada pelo Departamento de Justiça, para investigar as suspeitas de '\n",
            " 'interferência russa nas eleições estadunidenses. Mueller e sua investigação '\n",
            " 'confirmaram que o governo russo de fato interferiu no processo eleitoral em '\n",
            " '2016 e que a campanha de Trump se beneficiou disso, mas não conseguiu provas '\n",
            " 'concretas de conluio, coordenação ou conspiração criminosa da campanha do '\n",
            " 'presidente com os russos. Mueller também investigou o presidente Trump na '\n",
            " 'questão de obstrução de justiça, com seu relatório final não indiciando e '\n",
            " 'nem exonerando o presidente nesta questão. Pouco depois, uma nova '\n",
            " 'investigação começou a respeito de denúncias de que Trump teria solicitado '\n",
            " 'ao governo ucraniano para investigar seu rival político e concorrente das '\n",
            " 'eleições de 2020, Joe Biden. Como resultado, em dezembro de 2019, Trump se '\n",
            " 'tornou o terceiro presidente na história dos Estados Unidos a sofrer o '\n",
            " 'primeiro impeachment na Câmara dos Representantes, porém foi absolvido pelo '\n",
            " 'Senado em fevereiro de 2020. Trump ainda reagiu de forma lenta a pandemia de '\n",
            " 'COVID-19; ele minimizou a ameaça do vírus, ignorou ou contradisse muitas '\n",
            " 'recomendações de funcionários da área de saúde pública e promoveu '\n",
            " 'informações falsas sobre tratamentos não comprovados e a disponibilidade de '\n",
            " 'testes. Trump acabou perdendo a eleição presidencial de 2020 para o '\n",
            " 'democrata Joe Biden, mas se recusou a conceder a derrota. Ele fez acusações '\n",
            " 'infundadas de fraude eleitoral, moveu vários processos em cortes de diversos '\n",
            " 'estados para desafiar os resultados das urnas e ordenou que oficiais da Casa '\n",
            " 'Branca e do seu governo não cooperassem com a transição presidencial. Em '\n",
            " 'janeiro de 2021, uma semana antes da data prevista para deixar o cargo, '\n",
            " 'Trump sofreu novamente um impeachment pela Câmara dos Representantes, sendo '\n",
            " 'acusado de incitação à sedição por causada da invasão do Capitólio, que '\n",
            " 'aconteceu sete dias antes, por seus apoiadores. Assim ele se tornou o '\n",
            " 'primeiro presidente dos Estados Unidos a sofrer dois processos de '\n",
            " 'impeachment (embora, mais uma vez, o Senado viesse a inocenta-lo). Trump '\n",
            " 'deixou a Casa Branca em 2021 como um dos presidentes mais impopulares da '\n",
            " 'história dos Estados Unidos.')\n"
          ],
          "name": "stdout"
        }
      ]
    },
    {
      "cell_type": "markdown",
      "metadata": {
        "id": "zdeOGTGqqUlM"
      },
      "source": [
        "# 4) Perguntas escolhidas"
      ]
    },
    {
      "cell_type": "code",
      "metadata": {
        "id": "_1gvs2yMqgxA"
      },
      "source": [
        "#defição das questões que queremos buscar as respostas no texto\r\n",
        "questions = [\r\n",
        "    \"Quando nasceu Donald Trump?\",\r\n",
        "    \"Quem é Donald John Trump?\",\r\n",
        "    \"O que Donald Trump construiu durante sua carreira?\",\r\n",
        "    \"Que tipo de investigação Robert Mueller conduziu?\",\r\n",
        "    \"O que Trump fez quando perdeu a eleição presidencial em 2020?\",\r\n",
        "    \"O que aconteceu em Janeiro de 2021?\",\r\n",
        "    \"Como Donald Trump conduziu a politica externa americana?\"\r\n",
        "]"
      ],
      "execution_count": 13,
      "outputs": []
    },
    {
      "cell_type": "markdown",
      "metadata": {
        "id": "aaq2d6Hmqj6z"
      },
      "source": [
        "# 5) Execução do Modelo"
      ]
    },
    {
      "cell_type": "code",
      "metadata": {
        "colab": {
          "base_uri": "https://localhost:8080/"
        },
        "id": "01JyzzSUTGBP",
        "outputId": "6ec7b157-d983-4b96-99ad-5d89229ca91b"
      },
      "source": [
        "#Modelo pre-treinado que será utilizado \r\n",
        "reader = DocumentReader(\"mrm8488/bert-base-portuguese-cased-finetuned-squad-v1-pt\") \r\n",
        "\r\n",
        "for question in questions:\r\n",
        "    reader.tokenize(question, text) # executa função que busca as respostas perguntas definidas sobre o texto escolhido\r\n",
        "    pp.pprint(f\"Pergunta: {question}\") # imprime a questão\r\n",
        "    pp.pprint(f\"Respostas: {reader.get_answer()}\") #imprime as respostas identificadas em cada trecho\r\n",
        "    print()"
      ],
      "execution_count": 14,
      "outputs": [
        {
          "output_type": "stream",
          "text": [
            "'Question: Quando nasceu Donald Trump?'\n",
            "'Answer: 14 de junho de 1946 / '\n",
            "\n",
            "'Question: Quem é Donald John Trump?'\n",
            "'Answer: um empresario, personalidade televisiva e politico americano / '\n",
            "\n",
            "'Question: O que Donald Trump construiu durante sua carreira?'\n",
            "('Answer: torres de escritorio, hoteis, cassinos, campos de golfe e outras '\n",
            " 'instalacoes com sua marca em todo o mundo / ')\n",
            "\n",
            "'Question: Que tipo de investigação Robert Mueller conduziu?'\n",
            "'Answer: economia / investigacao oficial / obstrucao de justica / '\n",
            "\n",
            "'Question: O que Trump fez quando perdeu a eleição presidencial em 2020?'\n",
            "('Answer: mais de 2, 8 milhoes de votos / assinou uma ordem executiva que '\n",
            " 'proibia a entrada de cidadaos oriundos de sete paises de maioria muculmana '\n",
            " 'nos estados unidos, citando razoes de seguranca. em questoes internas, ele '\n",
            " 'assinou um pacote de macicos cortes de impostos para individuos e empresas, '\n",
            " 'e ainda rescindiu a penalidade do mandato de seguro saude individual do '\n",
            " 'affordable care act / acusacoes infundadas de fraude eleitoral / ')\n",
            "\n",
            "'Question: O que aconteceu em Janeiro de 2021?'\n",
            "('Answer: joe biden / em maio de 2017, uma investigacao oficial, encabecada '\n",
            " 'por robert mueller, foi lancada pelo departamento de justica, para '\n",
            " 'investigar as suspeitas de interferencia russa nas eleicoes estadunidenses. '\n",
            " '/ trump sofreu novamente um impeachment pela camara dos representantes / ')\n",
            "\n",
            "'Question: Como Donald Trump conduziu a politica externa americana?'\n",
            "('Answer: como o 45. [UNK] presidente dos estados unidos / retirando os '\n",
            " 'estados unidos das negociacoes do acordo da parceria transpacifica e do '\n",
            " 'acordo de paris sobre mudancas climaticas / ')\n",
            "\n"
          ],
          "name": "stdout"
        }
      ]
    }
  ]
}